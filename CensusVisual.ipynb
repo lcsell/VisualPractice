{
 "cells": [
  {
   "cell_type": "code",
   "execution_count": 2,
   "metadata": {},
   "outputs": [],
   "source": [
    "import pandas as pd\n",
    "import matplotlib.pyplot as plt\n",
    "import plotly.express as px\n",
    "%matplotlib inline\n",
    "import numpy as np"
   ]
  },
  {
   "cell_type": "code",
   "execution_count": 3,
   "metadata": {},
   "outputs": [],
   "source": [
    "ABS2018 = pd.read_csv('ABS_StatsEmployersDemographics/ABSCS2018.AB1800CSA04-2022-08-31T122815.csv')"
   ]
  },
  {
   "cell_type": "code",
   "execution_count": 4,
   "metadata": {},
   "outputs": [
    {
     "name": "stdout",
     "output_type": "stream",
     "text": [
      "<class 'pandas.core.frame.DataFrame'>\n",
      "RangeIndex: 84 entries, 0 to 83\n",
      "Data columns (total 9 columns):\n",
      " #   Column                                       Non-Null Count  Dtype \n",
      "---  ------                                       --------------  ----- \n",
      " 0   2017 NAICS code (NAICS2017)                  84 non-null     object\n",
      " 1   Meaning of NAICS code (NAICS2017_LABEL)      84 non-null     object\n",
      " 2   Meaning of Sex code (SEX_LABEL)              84 non-null     object\n",
      " 3   Meaning of Ethnicity code (ETH_GROUP_LABEL)  84 non-null     object\n",
      " 4   Meaning of Race code (RACE_GROUP_LABEL)      84 non-null     object\n",
      " 5   Meaning of Veteran code (VET_GROUP_LABEL)    84 non-null     object\n",
      " 6   Number of employer firms (FIRMPDEMP)         84 non-null     object\n",
      " 7   Number of employees (EMP)                    84 non-null     object\n",
      " 8   Annual payroll ($1,000) (PAYANN)             84 non-null     object\n",
      "dtypes: object(9)\n",
      "memory usage: 6.0+ KB\n"
     ]
    }
   ],
   "source": [
    "ABS2018.info()"
   ]
  },
  {
   "cell_type": "code",
   "execution_count": 5,
   "metadata": {},
   "outputs": [],
   "source": [
    "ABS2018.columns = [c.replace(' ', '') for c in ABS2018.columns]\n"
   ]
  },
  {
   "cell_type": "code",
   "execution_count": 6,
   "metadata": {},
   "outputs": [],
   "source": [
    "ABS2018 = ABS2018[['MeaningofNAICScode(NAICS2017_LABEL)', 'MeaningofSexcode(SEX_LABEL)', 'Numberofemployerfirms(FIRMPDEMP)', 'Numberofemployees(EMP)', 'Annualpayroll($1,000)(PAYANN)']]"
   ]
  },
  {
   "cell_type": "code",
   "execution_count": 7,
   "metadata": {},
   "outputs": [
    {
     "data": {
      "text/html": [
       "<div>\n",
       "<style scoped>\n",
       "    .dataframe tbody tr th:only-of-type {\n",
       "        vertical-align: middle;\n",
       "    }\n",
       "\n",
       "    .dataframe tbody tr th {\n",
       "        vertical-align: top;\n",
       "    }\n",
       "\n",
       "    .dataframe thead th {\n",
       "        text-align: right;\n",
       "    }\n",
       "</style>\n",
       "<table border=\"1\" class=\"dataframe\">\n",
       "  <thead>\n",
       "    <tr style=\"text-align: right;\">\n",
       "      <th></th>\n",
       "      <th>MeaningofNAICScode(NAICS2017_LABEL)</th>\n",
       "      <th>MeaningofSexcode(SEX_LABEL)</th>\n",
       "      <th>Numberofemployerfirms(FIRMPDEMP)</th>\n",
       "      <th>Numberofemployees(EMP)</th>\n",
       "      <th>Annualpayroll($1,000)(PAYANN)</th>\n",
       "    </tr>\n",
       "  </thead>\n",
       "  <tbody>\n",
       "    <tr>\n",
       "      <th>0</th>\n",
       "      <td>Total for all sectors</td>\n",
       "      <td>Total</td>\n",
       "      <td>5,722,142</td>\n",
       "      <td>128,196,406</td>\n",
       "      <td>6,937,240,308</td>\n",
       "    </tr>\n",
       "    <tr>\n",
       "      <th>1</th>\n",
       "      <td>Total for all sectors</td>\n",
       "      <td>Female</td>\n",
       "      <td>1,141,410</td>\n",
       "      <td>10,149,257</td>\n",
       "      <td>388,085,223</td>\n",
       "    </tr>\n",
       "    <tr>\n",
       "      <th>2</th>\n",
       "      <td>Total for all sectors</td>\n",
       "      <td>Male</td>\n",
       "      <td>3,496,959</td>\n",
       "      <td>45,346,405</td>\n",
       "      <td>2,140,501,692</td>\n",
       "    </tr>\n",
       "    <tr>\n",
       "      <th>3</th>\n",
       "      <td>Total for all sectors</td>\n",
       "      <td>Equally male/female</td>\n",
       "      <td>860,754</td>\n",
       "      <td>7,970,121</td>\n",
       "      <td>279,853,007</td>\n",
       "    </tr>\n",
       "    <tr>\n",
       "      <th>4</th>\n",
       "      <td>Total for all sectors</td>\n",
       "      <td>Total</td>\n",
       "      <td>5,722,142</td>\n",
       "      <td>128,196,406</td>\n",
       "      <td>6,937,240,308</td>\n",
       "    </tr>\n",
       "  </tbody>\n",
       "</table>\n",
       "</div>"
      ],
      "text/plain": [
       "  MeaningofNAICScode(NAICS2017_LABEL) MeaningofSexcode(SEX_LABEL)  \\\n",
       "0               Total for all sectors                       Total   \n",
       "1               Total for all sectors                      Female   \n",
       "2               Total for all sectors                        Male   \n",
       "3               Total for all sectors         Equally male/female   \n",
       "4               Total for all sectors                       Total   \n",
       "\n",
       "  Numberofemployerfirms(FIRMPDEMP) Numberofemployees(EMP)  \\\n",
       "0                        5,722,142            128,196,406   \n",
       "1                        1,141,410             10,149,257   \n",
       "2                        3,496,959             45,346,405   \n",
       "3                          860,754              7,970,121   \n",
       "4                        5,722,142            128,196,406   \n",
       "\n",
       "  Annualpayroll($1,000)(PAYANN)  \n",
       "0                 6,937,240,308  \n",
       "1                   388,085,223  \n",
       "2                 2,140,501,692  \n",
       "3                   279,853,007  \n",
       "4                 6,937,240,308  "
      ]
     },
     "execution_count": 7,
     "metadata": {},
     "output_type": "execute_result"
    }
   ],
   "source": [
    "ABS2018.head()\n"
   ]
  },
  {
   "cell_type": "code",
   "execution_count": 8,
   "metadata": {},
   "outputs": [],
   "source": [
    "#rename columns\n",
    "\n",
    "#SalesRevenue and AnnualPayroll measures per $1000 dollars\n",
    "\n",
    "ABSGENDER = ABS2018.rename(columns={'MeaningofNAICScode(NAICS2017_LABEL)': 'Sector', 'MeaningofSexcode(SEX_LABEL)': 'Gender', 'Numberofemployerfirms(FIRMPDEMP)': 'NumberOfEmployerFirms', 'Numberofemployees(EMP)': 'NumberOfEmployees', 'Annualpayroll($1,000)(PAYANN)': 'AnnualPayroll'})"
   ]
  },
  {
   "cell_type": "code",
   "execution_count": 9,
   "metadata": {},
   "outputs": [],
   "source": [
    "absEmp = ABSGENDER[['Sector', 'Gender', 'NumberOfEmployees']]"
   ]
  },
  {
   "cell_type": "code",
   "execution_count": 10,
   "metadata": {},
   "outputs": [],
   "source": [
    "absEq = ABSGENDER[['Sector', 'Gender', 'NumberOfEmployerFirms']]"
   ]
  },
  {
   "cell_type": "code",
   "execution_count": 11,
   "metadata": {},
   "outputs": [
    {
     "data": {
      "text/html": [
       "<div>\n",
       "<style scoped>\n",
       "    .dataframe tbody tr th:only-of-type {\n",
       "        vertical-align: middle;\n",
       "    }\n",
       "\n",
       "    .dataframe tbody tr th {\n",
       "        vertical-align: top;\n",
       "    }\n",
       "\n",
       "    .dataframe thead th {\n",
       "        text-align: right;\n",
       "    }\n",
       "</style>\n",
       "<table border=\"1\" class=\"dataframe\">\n",
       "  <thead>\n",
       "    <tr style=\"text-align: right;\">\n",
       "      <th></th>\n",
       "      <th>Sector</th>\n",
       "      <th>Gender</th>\n",
       "      <th>NumberOfEmployerFirms</th>\n",
       "      <th>NumberOfEmployees</th>\n",
       "      <th>AnnualPayroll</th>\n",
       "    </tr>\n",
       "  </thead>\n",
       "  <tbody>\n",
       "    <tr>\n",
       "      <th>0</th>\n",
       "      <td>Total for all sectors</td>\n",
       "      <td>Total</td>\n",
       "      <td>5,722,142</td>\n",
       "      <td>128,196,406</td>\n",
       "      <td>6,937,240,308</td>\n",
       "    </tr>\n",
       "    <tr>\n",
       "      <th>1</th>\n",
       "      <td>Total for all sectors</td>\n",
       "      <td>Female</td>\n",
       "      <td>1,141,410</td>\n",
       "      <td>10,149,257</td>\n",
       "      <td>388,085,223</td>\n",
       "    </tr>\n",
       "    <tr>\n",
       "      <th>2</th>\n",
       "      <td>Total for all sectors</td>\n",
       "      <td>Male</td>\n",
       "      <td>3,496,959</td>\n",
       "      <td>45,346,405</td>\n",
       "      <td>2,140,501,692</td>\n",
       "    </tr>\n",
       "    <tr>\n",
       "      <th>3</th>\n",
       "      <td>Total for all sectors</td>\n",
       "      <td>Equally male/female</td>\n",
       "      <td>860,754</td>\n",
       "      <td>7,970,121</td>\n",
       "      <td>279,853,007</td>\n",
       "    </tr>\n",
       "    <tr>\n",
       "      <th>4</th>\n",
       "      <td>Total for all sectors</td>\n",
       "      <td>Total</td>\n",
       "      <td>5,722,142</td>\n",
       "      <td>128,196,406</td>\n",
       "      <td>6,937,240,308</td>\n",
       "    </tr>\n",
       "  </tbody>\n",
       "</table>\n",
       "</div>"
      ],
      "text/plain": [
       "                  Sector               Gender NumberOfEmployerFirms  \\\n",
       "0  Total for all sectors                Total             5,722,142   \n",
       "1  Total for all sectors               Female             1,141,410   \n",
       "2  Total for all sectors                 Male             3,496,959   \n",
       "3  Total for all sectors  Equally male/female               860,754   \n",
       "4  Total for all sectors                Total             5,722,142   \n",
       "\n",
       "  NumberOfEmployees  AnnualPayroll  \n",
       "0       128,196,406  6,937,240,308  \n",
       "1        10,149,257    388,085,223  \n",
       "2        45,346,405  2,140,501,692  \n",
       "3         7,970,121    279,853,007  \n",
       "4       128,196,406  6,937,240,308  "
      ]
     },
     "execution_count": 11,
     "metadata": {},
     "output_type": "execute_result"
    }
   ],
   "source": [
    "#remove first row\n",
    "\n",
    "\n",
    "ABSGENDER.head()"
   ]
  },
  {
   "cell_type": "code",
   "execution_count": 12,
   "metadata": {},
   "outputs": [
    {
     "data": {
      "text/html": [
       "<div>\n",
       "<style scoped>\n",
       "    .dataframe tbody tr th:only-of-type {\n",
       "        vertical-align: middle;\n",
       "    }\n",
       "\n",
       "    .dataframe tbody tr th {\n",
       "        vertical-align: top;\n",
       "    }\n",
       "\n",
       "    .dataframe thead tr th {\n",
       "        text-align: left;\n",
       "    }\n",
       "\n",
       "    .dataframe thead tr:last-of-type th {\n",
       "        text-align: right;\n",
       "    }\n",
       "</style>\n",
       "<table border=\"1\" class=\"dataframe\">\n",
       "  <thead>\n",
       "    <tr>\n",
       "      <th></th>\n",
       "      <th></th>\n",
       "      <th colspan=\"4\" halign=\"left\">NumberOfEmployerFirms</th>\n",
       "      <th colspan=\"4\" halign=\"left\">NumberOfEmployees</th>\n",
       "      <th colspan=\"4\" halign=\"left\">AnnualPayroll</th>\n",
       "    </tr>\n",
       "    <tr>\n",
       "      <th></th>\n",
       "      <th></th>\n",
       "      <th>count</th>\n",
       "      <th>unique</th>\n",
       "      <th>top</th>\n",
       "      <th>freq</th>\n",
       "      <th>count</th>\n",
       "      <th>unique</th>\n",
       "      <th>top</th>\n",
       "      <th>freq</th>\n",
       "      <th>count</th>\n",
       "      <th>unique</th>\n",
       "      <th>top</th>\n",
       "      <th>freq</th>\n",
       "    </tr>\n",
       "    <tr>\n",
       "      <th>Sector</th>\n",
       "      <th>Gender</th>\n",
       "      <th></th>\n",
       "      <th></th>\n",
       "      <th></th>\n",
       "      <th></th>\n",
       "      <th></th>\n",
       "      <th></th>\n",
       "      <th></th>\n",
       "      <th></th>\n",
       "      <th></th>\n",
       "      <th></th>\n",
       "      <th></th>\n",
       "      <th></th>\n",
       "    </tr>\n",
       "  </thead>\n",
       "  <tbody>\n",
       "    <tr>\n",
       "      <th rowspan=\"4\" valign=\"top\">Accommodation and food services</th>\n",
       "      <th>Equally male/female</th>\n",
       "      <td>1</td>\n",
       "      <td>1</td>\n",
       "      <td>108,888</td>\n",
       "      <td>1</td>\n",
       "      <td>1</td>\n",
       "      <td>1</td>\n",
       "      <td>1,831,961</td>\n",
       "      <td>1</td>\n",
       "      <td>1</td>\n",
       "      <td>1</td>\n",
       "      <td>33,172,751</td>\n",
       "      <td>1</td>\n",
       "    </tr>\n",
       "    <tr>\n",
       "      <th>Female</th>\n",
       "      <td>1</td>\n",
       "      <td>1</td>\n",
       "      <td>108,135</td>\n",
       "      <td>1</td>\n",
       "      <td>1</td>\n",
       "      <td>1</td>\n",
       "      <td>1,522,579</td>\n",
       "      <td>1</td>\n",
       "      <td>1</td>\n",
       "      <td>1</td>\n",
       "      <td>27,807,981</td>\n",
       "      <td>1</td>\n",
       "    </tr>\n",
       "    <tr>\n",
       "      <th>Male</th>\n",
       "      <td>1</td>\n",
       "      <td>1</td>\n",
       "      <td>306,519</td>\n",
       "      <td>1</td>\n",
       "      <td>1</td>\n",
       "      <td>1</td>\n",
       "      <td>7,184,977</td>\n",
       "      <td>1</td>\n",
       "      <td>1</td>\n",
       "      <td>1</td>\n",
       "      <td>136,937,433</td>\n",
       "      <td>1</td>\n",
       "    </tr>\n",
       "    <tr>\n",
       "      <th>Total</th>\n",
       "      <td>1</td>\n",
       "      <td>1</td>\n",
       "      <td>532,009</td>\n",
       "      <td>1</td>\n",
       "      <td>1</td>\n",
       "      <td>1</td>\n",
       "      <td>14,275,081</td>\n",
       "      <td>1</td>\n",
       "      <td>1</td>\n",
       "      <td>1</td>\n",
       "      <td>286,431,631</td>\n",
       "      <td>1</td>\n",
       "    </tr>\n",
       "    <tr>\n",
       "      <th>Administrative and support and waste management and remediation services</th>\n",
       "      <th>Equally male/female</th>\n",
       "      <td>1</td>\n",
       "      <td>1</td>\n",
       "      <td>50,637</td>\n",
       "      <td>1</td>\n",
       "      <td>1</td>\n",
       "      <td>1</td>\n",
       "      <td>683,045</td>\n",
       "      <td>1</td>\n",
       "      <td>1</td>\n",
       "      <td>1</td>\n",
       "      <td>22,636,483</td>\n",
       "      <td>1</td>\n",
       "    </tr>\n",
       "    <tr>\n",
       "      <th>...</th>\n",
       "      <th>...</th>\n",
       "      <td>...</td>\n",
       "      <td>...</td>\n",
       "      <td>...</td>\n",
       "      <td>...</td>\n",
       "      <td>...</td>\n",
       "      <td>...</td>\n",
       "      <td>...</td>\n",
       "      <td>...</td>\n",
       "      <td>...</td>\n",
       "      <td>...</td>\n",
       "      <td>...</td>\n",
       "      <td>...</td>\n",
       "    </tr>\n",
       "    <tr>\n",
       "      <th>Utilities</th>\n",
       "      <th>Total</th>\n",
       "      <td>1</td>\n",
       "      <td>1</td>\n",
       "      <td>6,062</td>\n",
       "      <td>1</td>\n",
       "      <td>1</td>\n",
       "      <td>1</td>\n",
       "      <td>673,993</td>\n",
       "      <td>1</td>\n",
       "      <td>1</td>\n",
       "      <td>1</td>\n",
       "      <td>71,506,415</td>\n",
       "      <td>1</td>\n",
       "    </tr>\n",
       "    <tr>\n",
       "      <th rowspan=\"4\" valign=\"top\">Wholesale trade</th>\n",
       "      <th>Equally male/female</th>\n",
       "      <td>1</td>\n",
       "      <td>1</td>\n",
       "      <td>41,537</td>\n",
       "      <td>1</td>\n",
       "      <td>1</td>\n",
       "      <td>1</td>\n",
       "      <td>342,718</td>\n",
       "      <td>1</td>\n",
       "      <td>1</td>\n",
       "      <td>1</td>\n",
       "      <td>19,346,334</td>\n",
       "      <td>1</td>\n",
       "    </tr>\n",
       "    <tr>\n",
       "      <th>Female</th>\n",
       "      <td>1</td>\n",
       "      <td>1</td>\n",
       "      <td>43,453</td>\n",
       "      <td>1</td>\n",
       "      <td>1</td>\n",
       "      <td>1</td>\n",
       "      <td>465,806</td>\n",
       "      <td>1</td>\n",
       "      <td>1</td>\n",
       "      <td>1</td>\n",
       "      <td>27,814,421</td>\n",
       "      <td>1</td>\n",
       "    </tr>\n",
       "    <tr>\n",
       "      <th>Male</th>\n",
       "      <td>1</td>\n",
       "      <td>1</td>\n",
       "      <td>201,980</td>\n",
       "      <td>1</td>\n",
       "      <td>1</td>\n",
       "      <td>1</td>\n",
       "      <td>2,664,681</td>\n",
       "      <td>1</td>\n",
       "      <td>1</td>\n",
       "      <td>1</td>\n",
       "      <td>169,772,001</td>\n",
       "      <td>1</td>\n",
       "    </tr>\n",
       "    <tr>\n",
       "      <th>Total</th>\n",
       "      <td>1</td>\n",
       "      <td>1</td>\n",
       "      <td>297,105</td>\n",
       "      <td>1</td>\n",
       "      <td>1</td>\n",
       "      <td>1</td>\n",
       "      <td>6,109,303</td>\n",
       "      <td>1</td>\n",
       "      <td>1</td>\n",
       "      <td>1</td>\n",
       "      <td>454,494,182</td>\n",
       "      <td>1</td>\n",
       "    </tr>\n",
       "  </tbody>\n",
       "</table>\n",
       "<p>80 rows × 12 columns</p>\n",
       "</div>"
      ],
      "text/plain": [
       "                                                                       NumberOfEmployerFirms  \\\n",
       "                                                                                       count   \n",
       "Sector                                             Gender                                      \n",
       "Accommodation and food services                    Equally male/female                     1   \n",
       "                                                   Female                                  1   \n",
       "                                                   Male                                    1   \n",
       "                                                   Total                                   1   \n",
       "Administrative and support and waste management... Equally male/female                     1   \n",
       "...                                                                                      ...   \n",
       "Utilities                                          Total                                   1   \n",
       "Wholesale trade                                    Equally male/female                     1   \n",
       "                                                   Female                                  1   \n",
       "                                                   Male                                    1   \n",
       "                                                   Total                                   1   \n",
       "\n",
       "                                                                               \\\n",
       "                                                                       unique   \n",
       "Sector                                             Gender                       \n",
       "Accommodation and food services                    Equally male/female      1   \n",
       "                                                   Female                   1   \n",
       "                                                   Male                     1   \n",
       "                                                   Total                    1   \n",
       "Administrative and support and waste management... Equally male/female      1   \n",
       "...                                                                       ...   \n",
       "Utilities                                          Total                    1   \n",
       "Wholesale trade                                    Equally male/female      1   \n",
       "                                                   Female                   1   \n",
       "                                                   Male                     1   \n",
       "                                                   Total                    1   \n",
       "\n",
       "                                                                                 \\\n",
       "                                                                            top   \n",
       "Sector                                             Gender                         \n",
       "Accommodation and food services                    Equally male/female  108,888   \n",
       "                                                   Female               108,135   \n",
       "                                                   Male                 306,519   \n",
       "                                                   Total                532,009   \n",
       "Administrative and support and waste management... Equally male/female   50,637   \n",
       "...                                                                         ...   \n",
       "Utilities                                          Total                  6,062   \n",
       "Wholesale trade                                    Equally male/female   41,537   \n",
       "                                                   Female                43,453   \n",
       "                                                   Male                 201,980   \n",
       "                                                   Total                297,105   \n",
       "\n",
       "                                                                             \\\n",
       "                                                                       freq   \n",
       "Sector                                             Gender                     \n",
       "Accommodation and food services                    Equally male/female    1   \n",
       "                                                   Female                 1   \n",
       "                                                   Male                   1   \n",
       "                                                   Total                  1   \n",
       "Administrative and support and waste management... Equally male/female    1   \n",
       "...                                                                     ...   \n",
       "Utilities                                          Total                  1   \n",
       "Wholesale trade                                    Equally male/female    1   \n",
       "                                                   Female                 1   \n",
       "                                                   Male                   1   \n",
       "                                                   Total                  1   \n",
       "\n",
       "                                                                       NumberOfEmployees  \\\n",
       "                                                                                   count   \n",
       "Sector                                             Gender                                  \n",
       "Accommodation and food services                    Equally male/female                 1   \n",
       "                                                   Female                              1   \n",
       "                                                   Male                                1   \n",
       "                                                   Total                               1   \n",
       "Administrative and support and waste management... Equally male/female                 1   \n",
       "...                                                                                  ...   \n",
       "Utilities                                          Total                               1   \n",
       "Wholesale trade                                    Equally male/female                 1   \n",
       "                                                   Female                              1   \n",
       "                                                   Male                                1   \n",
       "                                                   Total                               1   \n",
       "\n",
       "                                                                               \\\n",
       "                                                                       unique   \n",
       "Sector                                             Gender                       \n",
       "Accommodation and food services                    Equally male/female      1   \n",
       "                                                   Female                   1   \n",
       "                                                   Male                     1   \n",
       "                                                   Total                    1   \n",
       "Administrative and support and waste management... Equally male/female      1   \n",
       "...                                                                       ...   \n",
       "Utilities                                          Total                    1   \n",
       "Wholesale trade                                    Equally male/female      1   \n",
       "                                                   Female                   1   \n",
       "                                                   Male                     1   \n",
       "                                                   Total                    1   \n",
       "\n",
       "                                                                                    \\\n",
       "                                                                               top   \n",
       "Sector                                             Gender                            \n",
       "Accommodation and food services                    Equally male/female   1,831,961   \n",
       "                                                   Female                1,522,579   \n",
       "                                                   Male                  7,184,977   \n",
       "                                                   Total                14,275,081   \n",
       "Administrative and support and waste management... Equally male/female     683,045   \n",
       "...                                                                            ...   \n",
       "Utilities                                          Total                   673,993   \n",
       "Wholesale trade                                    Equally male/female     342,718   \n",
       "                                                   Female                  465,806   \n",
       "                                                   Male                  2,664,681   \n",
       "                                                   Total                 6,109,303   \n",
       "\n",
       "                                                                             \\\n",
       "                                                                       freq   \n",
       "Sector                                             Gender                     \n",
       "Accommodation and food services                    Equally male/female    1   \n",
       "                                                   Female                 1   \n",
       "                                                   Male                   1   \n",
       "                                                   Total                  1   \n",
       "Administrative and support and waste management... Equally male/female    1   \n",
       "...                                                                     ...   \n",
       "Utilities                                          Total                  1   \n",
       "Wholesale trade                                    Equally male/female    1   \n",
       "                                                   Female                 1   \n",
       "                                                   Male                   1   \n",
       "                                                   Total                  1   \n",
       "\n",
       "                                                                       AnnualPayroll  \\\n",
       "                                                                               count   \n",
       "Sector                                             Gender                              \n",
       "Accommodation and food services                    Equally male/female             1   \n",
       "                                                   Female                          1   \n",
       "                                                   Male                            1   \n",
       "                                                   Total                           1   \n",
       "Administrative and support and waste management... Equally male/female             1   \n",
       "...                                                                              ...   \n",
       "Utilities                                          Total                           1   \n",
       "Wholesale trade                                    Equally male/female             1   \n",
       "                                                   Female                          1   \n",
       "                                                   Male                            1   \n",
       "                                                   Total                           1   \n",
       "\n",
       "                                                                               \\\n",
       "                                                                       unique   \n",
       "Sector                                             Gender                       \n",
       "Accommodation and food services                    Equally male/female      1   \n",
       "                                                   Female                   1   \n",
       "                                                   Male                     1   \n",
       "                                                   Total                    1   \n",
       "Administrative and support and waste management... Equally male/female      1   \n",
       "...                                                                       ...   \n",
       "Utilities                                          Total                    1   \n",
       "Wholesale trade                                    Equally male/female      1   \n",
       "                                                   Female                   1   \n",
       "                                                   Male                     1   \n",
       "                                                   Total                    1   \n",
       "\n",
       "                                                                                     \\\n",
       "                                                                                top   \n",
       "Sector                                             Gender                             \n",
       "Accommodation and food services                    Equally male/female   33,172,751   \n",
       "                                                   Female                27,807,981   \n",
       "                                                   Male                 136,937,433   \n",
       "                                                   Total                286,431,631   \n",
       "Administrative and support and waste management... Equally male/female   22,636,483   \n",
       "...                                                                             ...   \n",
       "Utilities                                          Total                 71,506,415   \n",
       "Wholesale trade                                    Equally male/female   19,346,334   \n",
       "                                                   Female                27,814,421   \n",
       "                                                   Male                 169,772,001   \n",
       "                                                   Total                454,494,182   \n",
       "\n",
       "                                                                             \n",
       "                                                                       freq  \n",
       "Sector                                             Gender                    \n",
       "Accommodation and food services                    Equally male/female    1  \n",
       "                                                   Female                 1  \n",
       "                                                   Male                   1  \n",
       "                                                   Total                  1  \n",
       "Administrative and support and waste management... Equally male/female    1  \n",
       "...                                                                     ...  \n",
       "Utilities                                          Total                  1  \n",
       "Wholesale trade                                    Equally male/female    1  \n",
       "                                                   Female                 1  \n",
       "                                                   Male                   1  \n",
       "                                                   Total                  1  \n",
       "\n",
       "[80 rows x 12 columns]"
      ]
     },
     "execution_count": 12,
     "metadata": {},
     "output_type": "execute_result"
    }
   ],
   "source": [
    "ABSGENDER.groupby(['Sector', 'Gender']).describe()"
   ]
  },
  {
   "cell_type": "code",
   "execution_count": 13,
   "metadata": {},
   "outputs": [
    {
     "data": {
      "text/html": [
       "<div>\n",
       "<style scoped>\n",
       "    .dataframe tbody tr th:only-of-type {\n",
       "        vertical-align: middle;\n",
       "    }\n",
       "\n",
       "    .dataframe tbody tr th {\n",
       "        vertical-align: top;\n",
       "    }\n",
       "\n",
       "    .dataframe thead th {\n",
       "        text-align: right;\n",
       "    }\n",
       "</style>\n",
       "<table border=\"1\" class=\"dataframe\">\n",
       "  <thead>\n",
       "    <tr style=\"text-align: right;\">\n",
       "      <th></th>\n",
       "      <th>Sector</th>\n",
       "      <th>Gender</th>\n",
       "      <th>AnnualPayroll</th>\n",
       "    </tr>\n",
       "  </thead>\n",
       "  <tbody>\n",
       "    <tr>\n",
       "      <th>0</th>\n",
       "      <td>Total for all sectors</td>\n",
       "      <td>Total</td>\n",
       "      <td>6,937,240,308</td>\n",
       "    </tr>\n",
       "    <tr>\n",
       "      <th>1</th>\n",
       "      <td>Total for all sectors</td>\n",
       "      <td>Female</td>\n",
       "      <td>388,085,223</td>\n",
       "    </tr>\n",
       "    <tr>\n",
       "      <th>2</th>\n",
       "      <td>Total for all sectors</td>\n",
       "      <td>Male</td>\n",
       "      <td>2,140,501,692</td>\n",
       "    </tr>\n",
       "    <tr>\n",
       "      <th>3</th>\n",
       "      <td>Total for all sectors</td>\n",
       "      <td>Equally male/female</td>\n",
       "      <td>279,853,007</td>\n",
       "    </tr>\n",
       "    <tr>\n",
       "      <th>4</th>\n",
       "      <td>Total for all sectors</td>\n",
       "      <td>Total</td>\n",
       "      <td>6,937,240,308</td>\n",
       "    </tr>\n",
       "  </tbody>\n",
       "</table>\n",
       "</div>"
      ],
      "text/plain": [
       "                  Sector               Gender  AnnualPayroll\n",
       "0  Total for all sectors                Total  6,937,240,308\n",
       "1  Total for all sectors               Female    388,085,223\n",
       "2  Total for all sectors                 Male  2,140,501,692\n",
       "3  Total for all sectors  Equally male/female    279,853,007\n",
       "4  Total for all sectors                Total  6,937,240,308"
      ]
     },
     "execution_count": 13,
     "metadata": {},
     "output_type": "execute_result"
    }
   ],
   "source": [
    "GenderSectorPayroll= ABSGENDER[['Sector', 'Gender', 'AnnualPayroll']]\n",
    "\n",
    "GenderSectorPayroll.head()"
   ]
  },
  {
   "cell_type": "code",
   "execution_count": 14,
   "metadata": {},
   "outputs": [],
   "source": [
    "GSP = GenderSectorPayroll"
   ]
  },
  {
   "cell_type": "code",
   "execution_count": 15,
   "metadata": {},
   "outputs": [
    {
     "name": "stderr",
     "output_type": "stream",
     "text": [
      "C:\\Users\\Logan\\AppData\\Local\\Temp\\ipykernel_27592\\2033070993.py:1: SettingWithCopyWarning: \n",
      "A value is trying to be set on a copy of a slice from a DataFrame.\n",
      "Try using .loc[row_indexer,col_indexer] = value instead\n",
      "\n",
      "See the caveats in the documentation: https://pandas.pydata.org/pandas-docs/stable/user_guide/indexing.html#returning-a-view-versus-a-copy\n",
      "  GSP['AnnualPayroll'] = GSP['AnnualPayroll'].str.replace(',', '')\n",
      "C:\\Users\\Logan\\AppData\\Local\\Temp\\ipykernel_27592\\2033070993.py:3: SettingWithCopyWarning: \n",
      "A value is trying to be set on a copy of a slice from a DataFrame\n",
      "\n",
      "See the caveats in the documentation: https://pandas.pydata.org/pandas-docs/stable/user_guide/indexing.html#returning-a-view-versus-a-copy\n",
      "  GSP.drop(GSP[GSP['AnnualPayroll'] == \"S\"].index, inplace = True)\n",
      "C:\\Users\\Logan\\AppData\\Local\\Temp\\ipykernel_27592\\2033070993.py:6: SettingWithCopyWarning: \n",
      "A value is trying to be set on a copy of a slice from a DataFrame.\n",
      "Try using .loc[row_indexer,col_indexer] = value instead\n",
      "\n",
      "See the caveats in the documentation: https://pandas.pydata.org/pandas-docs/stable/user_guide/indexing.html#returning-a-view-versus-a-copy\n",
      "  GSP['AnnualPayroll'] = GSP['AnnualPayroll'].astype(str).astype(float).astype('int64')\n"
     ]
    }
   ],
   "source": [
    "GSP['AnnualPayroll'] = GSP['AnnualPayroll'].str.replace(',', '')\n",
    "\n",
    "GSP.drop(GSP[GSP['AnnualPayroll'] == \"S\"].index, inplace = True)\n",
    "\n",
    "\n",
    "GSP['AnnualPayroll'] = GSP['AnnualPayroll'].astype(str).astype(float).astype('int64')"
   ]
  },
  {
   "cell_type": "code",
   "execution_count": 16,
   "metadata": {},
   "outputs": [
    {
     "data": {
      "text/html": [
       "<div>\n",
       "<style scoped>\n",
       "    .dataframe tbody tr th:only-of-type {\n",
       "        vertical-align: middle;\n",
       "    }\n",
       "\n",
       "    .dataframe tbody tr th {\n",
       "        vertical-align: top;\n",
       "    }\n",
       "\n",
       "    .dataframe thead th {\n",
       "        text-align: right;\n",
       "    }\n",
       "</style>\n",
       "<table border=\"1\" class=\"dataframe\">\n",
       "  <thead>\n",
       "    <tr style=\"text-align: right;\">\n",
       "      <th></th>\n",
       "      <th>Sector</th>\n",
       "      <th>Gender</th>\n",
       "      <th>AnnualPayroll</th>\n",
       "    </tr>\n",
       "  </thead>\n",
       "  <tbody>\n",
       "    <tr>\n",
       "      <th>0</th>\n",
       "      <td>Total for all sectors</td>\n",
       "      <td>Total</td>\n",
       "      <td>6937240308</td>\n",
       "    </tr>\n",
       "    <tr>\n",
       "      <th>4</th>\n",
       "      <td>Total for all sectors</td>\n",
       "      <td>Total</td>\n",
       "      <td>6937240308</td>\n",
       "    </tr>\n",
       "    <tr>\n",
       "      <th>8</th>\n",
       "      <td>Agriculture, forestry, fishing and hunting (660)</td>\n",
       "      <td>Total</td>\n",
       "      <td>11184335</td>\n",
       "    </tr>\n",
       "    <tr>\n",
       "      <th>12</th>\n",
       "      <td>Mining, quarrying, and oil and gas extraction</td>\n",
       "      <td>Total</td>\n",
       "      <td>60692728</td>\n",
       "    </tr>\n",
       "    <tr>\n",
       "      <th>16</th>\n",
       "      <td>Utilities</td>\n",
       "      <td>Total</td>\n",
       "      <td>71506415</td>\n",
       "    </tr>\n",
       "  </tbody>\n",
       "</table>\n",
       "</div>"
      ],
      "text/plain": [
       "                                              Sector Gender  AnnualPayroll\n",
       "0                              Total for all sectors  Total     6937240308\n",
       "4                              Total for all sectors  Total     6937240308\n",
       "8   Agriculture, forestry, fishing and hunting (660)  Total       11184335\n",
       "12     Mining, quarrying, and oil and gas extraction  Total       60692728\n",
       "16                                         Utilities  Total       71506415"
      ]
     },
     "execution_count": 16,
     "metadata": {},
     "output_type": "execute_result"
    }
   ],
   "source": [
    "gspTotal = GSP[GSP.Gender  == \"Total\"]\n",
    "\n",
    "\n",
    "\n",
    "\n",
    "\n",
    "gspTotal.head()"
   ]
  },
  {
   "cell_type": "code",
   "execution_count": 17,
   "metadata": {},
   "outputs": [],
   "source": [
    "gspTotal = gspTotal[2:]"
   ]
  },
  {
   "cell_type": "code",
   "execution_count": 18,
   "metadata": {},
   "outputs": [],
   "source": [
    "gspTotal = gspTotal[['Sector', 'AnnualPayroll']]\n",
    "\n"
   ]
  },
  {
   "cell_type": "code",
   "execution_count": 19,
   "metadata": {},
   "outputs": [
    {
     "data": {
      "text/html": [
       "<div>\n",
       "<style scoped>\n",
       "    .dataframe tbody tr th:only-of-type {\n",
       "        vertical-align: middle;\n",
       "    }\n",
       "\n",
       "    .dataframe tbody tr th {\n",
       "        vertical-align: top;\n",
       "    }\n",
       "\n",
       "    .dataframe thead th {\n",
       "        text-align: right;\n",
       "    }\n",
       "</style>\n",
       "<table border=\"1\" class=\"dataframe\">\n",
       "  <thead>\n",
       "    <tr style=\"text-align: right;\">\n",
       "      <th></th>\n",
       "      <th>AnnualPayroll</th>\n",
       "    </tr>\n",
       "    <tr>\n",
       "      <th>Sector</th>\n",
       "      <th></th>\n",
       "    </tr>\n",
       "  </thead>\n",
       "  <tbody>\n",
       "    <tr>\n",
       "      <th>Agriculture, forestry, fishing and hunting (660)</th>\n",
       "      <td>11184335</td>\n",
       "    </tr>\n",
       "    <tr>\n",
       "      <th>Mining, quarrying, and oil and gas extraction</th>\n",
       "      <td>60692728</td>\n",
       "    </tr>\n",
       "    <tr>\n",
       "      <th>Utilities</th>\n",
       "      <td>71506415</td>\n",
       "    </tr>\n",
       "    <tr>\n",
       "      <th>Construction</th>\n",
       "      <td>424172015</td>\n",
       "    </tr>\n",
       "    <tr>\n",
       "      <th>Manufacturing</th>\n",
       "      <td>724009247</td>\n",
       "    </tr>\n",
       "  </tbody>\n",
       "</table>\n",
       "</div>"
      ],
      "text/plain": [
       "                                                  AnnualPayroll\n",
       "Sector                                                         \n",
       "Agriculture, forestry, fishing and hunting (660)       11184335\n",
       "Mining, quarrying, and oil and gas extraction          60692728\n",
       "Utilities                                              71506415\n",
       "Construction                                          424172015\n",
       "Manufacturing                                         724009247"
      ]
     },
     "execution_count": 19,
     "metadata": {},
     "output_type": "execute_result"
    }
   ],
   "source": [
    "gspTotal = gspTotal.set_index('Sector')\n",
    "gspTotal.head()"
   ]
  },
  {
   "cell_type": "code",
   "execution_count": 20,
   "metadata": {},
   "outputs": [
    {
     "data": {
      "text/plain": [
       "Text(0, 0.5, 'Sector')"
      ]
     },
     "execution_count": 20,
     "metadata": {},
     "output_type": "execute_result"
    },
    {
     "data": {
      "image/png": "[encoded data removed]",
      "text/plain": [
       "<Figure size 432x288 with 1 Axes>"
      ]
     },
     "metadata": {
      "needs_background": "light"
     },
     "output_type": "display_data"
    }
   ],
   "source": [
    "ax = gspTotal.plot(title = 'Annual Payroll per Sector',kind='barh', color = \"green\")\n",
    "\n",
    "ax.set_xlabel('Annual Payroll in Hundreds of Millions')\n",
    "ax.set_ylabel('Sector')"
   ]
  },
  {
   "cell_type": "code",
   "execution_count": 21,
   "metadata": {},
   "outputs": [],
   "source": [
    "absEmpF = absEmp[absEmp.Gender == 'Female']"
   ]
  },
  {
   "cell_type": "code",
   "execution_count": 22,
   "metadata": {},
   "outputs": [],
   "source": [
    "absEmpF = absEmpF[2:]\n"
   ]
  },
  {
   "cell_type": "code",
   "execution_count": 23,
   "metadata": {},
   "outputs": [],
   "source": [
    "absEmpF['NumberOfEmployees'] = absEmpF['NumberOfEmployees'].str.replace(',', '')\n",
    "absEmpF['NumberOfEmployees'] = absEmpF['NumberOfEmployees'].astype(str).astype(float).astype('int64')"
   ]
  },
  {
   "cell_type": "code",
   "execution_count": 24,
   "metadata": {},
   "outputs": [],
   "source": [
    "\n",
    "absEmpF = absEmpF[['Sector', 'NumberOfEmployees']]"
   ]
  },
  {
   "cell_type": "code",
   "execution_count": 25,
   "metadata": {},
   "outputs": [
    {
     "name": "stdout",
     "output_type": "stream",
     "text": [
      "<class 'pandas.core.frame.DataFrame'>\n",
      "Index: 19 entries, Agriculture, forestry, fishing and hunting (660) to Other services (except public administration) (663)\n",
      "Data columns (total 1 columns):\n",
      " #   Column             Non-Null Count  Dtype\n",
      "---  ------             --------------  -----\n",
      " 0   NumberOfEmployees  19 non-null     int64\n",
      "dtypes: int64(1)\n",
      "memory usage: 304.0+ bytes\n"
     ]
    }
   ],
   "source": [
    "absEmpF = absEmpF.set_index('Sector')\n",
    "\n",
    "\n",
    "absEmpF.info()\n"
   ]
  },
  {
   "cell_type": "code",
   "execution_count": 26,
   "metadata": {},
   "outputs": [
    {
     "data": {
      "application/vnd.plotly.v1+json": {
       "config": {
        "plotlyServerURL": "https://plot.ly"
       },
       "data": [
        {
         "alignmentgroup": "True",
         "hovertemplate": "variable=NumberOfEmployees<br>Sector=%{x}<br>value=%{y}<extra></extra>",
         "legendgroup": "NumberOfEmployees",
         "marker": {
          "color": "#636efa",
          "pattern": {
           "shape": ""
          }
         },
         "name": "NumberOfEmployees",
         "offsetgroup": "NumberOfEmployees",
         "orientation": "v",
         "showlegend": true,
         "textposition": "auto",
         "type": "bar",
         "x": [
          "Agriculture, forestry, fishing and hunting (660)",
          "Mining, quarrying, and oil and gas extraction",
          "Utilities",
          "Construction",
          "Manufacturing",
          "Wholesale trade",
          "Retail trade",
          "Transportation and warehousing (661)",
          "Information",
          "Finance and insurance (662)",
          "Real estate and rental and leasing",
          "Professional, scientific, and technical services",
          "Management of companies and enterprises",
          "Administrative and support and waste management and remediation services",
          "Educational services",
          "Health care and social assistance",
          "Arts, entertainment, and recreation",
          "Accommodation and food services",
          "Other services (except public administration) (663)"
         ],
         "xaxis": "x",
         "y": [
          24689,
          18667,
          2466,
          599009,
          655512,
          465806,
          871369,
          246025,
          107900,
          178485,
          212107,
          989099,
          59745,
          1277280,
          265211,
          1972252,
          147250,
          1522579,
          519976
         ],
         "yaxis": "y"
        }
       ],
       "layout": {
        "barmode": "relative",
        "legend": {
         "title": {
          "text": "variable"
         },
         "tracegroupgap": 0
        },
        "template": {
         "data": {
          "bar": [
           {
            "error_x": {
             "color": "#2a3f5f"
            },
            "error_y": {
             "color": "#2a3f5f"
            },
            "marker": {
             "line": {
              "color": "#E5ECF6",
              "width": 0.5
             },
             "pattern": {
              "fillmode": "overlay",
              "size": 10,
              "solidity": 0.2
             }
            },
            "type": "bar"
           }
          ],
          "barpolar": [
           {
            "marker": {
             "line": {
              "color": "#E5ECF6",
              "width": 0.5
             },
             "pattern": {
              "fillmode": "overlay",
              "size": 10,
              "solidity": 0.2
             }
            },
            "type": "barpolar"
           }
          ],
          "carpet": [
           {
            "aaxis": {
             "endlinecolor": "#2a3f5f",
             "gridcolor": "white",
             "linecolor": "white",
             "minorgridcolor": "white",
             "startlinecolor": "#2a3f5f"
            },
            "baxis": {
             "endlinecolor": "#2a3f5f",
             "gridcolor": "white",
             "linecolor": "white",
             "minorgridcolor": "white",
             "startlinecolor": "#2a3f5f"
            },
            "type": "carpet"
           }
          ],
          "choropleth": [
           {
            "colorbar": {
             "outlinewidth": 0,
             "ticks": ""
            },
            "type": "choropleth"
           }
          ],
          "contour": [
           {
            "colorbar": {
             "outlinewidth": 0,
             "ticks": ""
            },
            "colorscale": [
             [
              0,
              "#0d0887"
             ],
             [
              0.1111111111111111,
              "#46039f"
             ],
             [
              0.2222222222222222,
              "#7201a8"
             ],
             [
              0.3333333333333333,
              "#9c179e"
             ],
             [
              0.4444444444444444,
              "#bd3786"
             ],
             [
              0.5555555555555556,
              "#d8576b"
             ],
             [
              0.6666666666666666,
              "#ed7953"
             ],
             [
              0.7777777777777778,
              "#fb9f3a"
             ],
             [
              0.8888888888888888,
              "#fdca26"
             ],
             [
              1,
              "#f0f921"
             ]
            ],
            "type": "contour"
           }
          ],
          "contourcarpet": [
           {
            "colorbar": {
             "outlinewidth": 0,
             "ticks": ""
            },
            "type": "contourcarpet"
           }
          ],
          "heatmap": [
           {
            "colorbar": {
             "outlinewidth": 0,
             "ticks": ""
            },
            "colorscale": [
             [
              0,
              "#0d0887"
             ],
             [
              0.1111111111111111,
              "#46039f"
             ],
             [
              0.2222222222222222,
              "#7201a8"
             ],
             [
              0.3333333333333333,
              "#9c179e"
             ],
             [
              0.4444444444444444,
              "#bd3786"
             ],
             [
              0.5555555555555556,
              "#d8576b"
             ],
             [
              0.6666666666666666,
              "#ed7953"
             ],
             [
              0.7777777777777778,
              "#fb9f3a"
             ],
             [
              0.8888888888888888,
              "#fdca26"
             ],
             [
              1,
              "#f0f921"
             ]
            ],
            "type": "heatmap"
           }
          ],
          "heatmapgl": [
           {
            "colorbar": {
             "outlinewidth": 0,
             "ticks": ""
            },
            "colorscale": [
             [
              0,
              "#0d0887"
             ],
             [
              0.1111111111111111,
              "#46039f"
             ],
             [
              0.2222222222222222,
              "#7201a8"
             ],
             [
              0.3333333333333333,
              "#9c179e"
             ],
             [
              0.4444444444444444,
              "#bd3786"
             ],
             [
              0.5555555555555556,
              "#d8576b"
             ],
             [
              0.6666666666666666,
              "#ed7953"
             ],
             [
              0.7777777777777778,
              "#fb9f3a"
             ],
             [
              0.8888888888888888,
              "#fdca26"
             ],
             [
              1,
              "#f0f921"
             ]
            ],
            "type": "heatmapgl"
           }
          ],
          "histogram": [
           {
            "marker": {
             "pattern": {
              "fillmode": "overlay",
              "size": 10,
              "solidity": 0.2
             }
            },
            "type": "histogram"
           }
          ],
          "histogram2d": [
           {
            "colorbar": {
             "outlinewidth": 0,
             "ticks": ""
            },
            "colorscale": [
             [
              0,
              "#0d0887"
             ],
             [
              0.1111111111111111,
              "#46039f"
             ],
             [
              0.2222222222222222,
              "#7201a8"
             ],
             [
              0.3333333333333333,
              "#9c179e"
             ],
             [
              0.4444444444444444,
              "#bd3786"
             ],
             [
              0.5555555555555556,
              "#d8576b"
             ],
             [
              0.6666666666666666,
              "#ed7953"
             ],
             [
              0.7777777777777778,
              "#fb9f3a"
             ],
             [
              0.8888888888888888,
              "#fdca26"
             ],
             [
              1,
              "#f0f921"
             ]
            ],
            "type": "histogram2d"
           }
          ],
          "histogram2dcontour": [
           {
            "colorbar": {
             "outlinewidth": 0,
             "ticks": ""
            },
            "colorscale": [
             [
              0,
              "#0d0887"
             ],
             [
              0.1111111111111111,
              "#46039f"
             ],
             [
              0.2222222222222222,
              "#7201a8"
             ],
             [
              0.3333333333333333,
              "#9c179e"
             ],
             [
              0.4444444444444444,
              "#bd3786"
             ],
             [
              0.5555555555555556,
              "#d8576b"
             ],
             [
              0.6666666666666666,
              "#ed7953"
             ],
             [
              0.7777777777777778,
              "#fb9f3a"
             ],
             [
              0.8888888888888888,
              "#fdca26"
             ],
             [
              1,
              "#f0f921"
             ]
            ],
            "type": "histogram2dcontour"
           }
          ],
          "mesh3d": [
           {
            "colorbar": {
             "outlinewidth": 0,
             "ticks": ""
            },
            "type": "mesh3d"
           }
          ],
          "parcoords": [
           {
            "line": {
             "colorbar": {
              "outlinewidth": 0,
              "ticks": ""
             }
            },
            "type": "parcoords"
           }
          ],
          "pie": [
           {
            "automargin": true,
            "type": "pie"
           }
          ],
          "scatter": [
           {
            "marker": {
             "colorbar": {
              "outlinewidth": 0,
              "ticks": ""
             }
            },
            "type": "scatter"
           }
          ],
          "scatter3d": [
           {
            "line": {
             "colorbar": {
              "outlinewidth": 0,
              "ticks": ""
             }
            },
            "marker": {
             "colorbar": {
              "outlinewidth": 0,
              "ticks": ""
             }
            },
            "type": "scatter3d"
           }
          ],
          "scattercarpet": [
           {
            "marker": {
             "colorbar": {
              "outlinewidth": 0,
              "ticks": ""
             }
            },
            "type": "scattercarpet"
           }
          ],
          "scattergeo": [
           {
            "marker": {
             "colorbar": {
              "outlinewidth": 0,
              "ticks": ""
             }
            },
            "type": "scattergeo"
           }
          ],
          "scattergl": [
           {
            "marker": {
             "colorbar": {
              "outlinewidth": 0,
              "ticks": ""
             }
            },
            "type": "scattergl"
           }
          ],
          "scattermapbox": [
           {
            "marker": {
             "colorbar": {
              "outlinewidth": 0,
              "ticks": ""
             }
            },
            "type": "scattermapbox"
           }
          ],
          "scatterpolar": [
           {
            "marker": {
             "colorbar": {
              "outlinewidth": 0,
              "ticks": ""
             }
            },
            "type": "scatterpolar"
           }
          ],
          "scatterpolargl": [
           {
            "marker": {
             "colorbar": {
              "outlinewidth": 0,
              "ticks": ""
             }
            },
            "type": "scatterpolargl"
           }
          ],
          "scatterternary": [
           {
            "marker": {
             "colorbar": {
              "outlinewidth": 0,
              "ticks": ""
             }
            },
            "type": "scatterternary"
           }
          ],
          "surface": [
           {
            "colorbar": {
             "outlinewidth": 0,
             "ticks": ""
            },
            "colorscale": [
             [
              0,
              "#0d0887"
             ],
             [
              0.1111111111111111,
              "#46039f"
             ],
             [
              0.2222222222222222,
              "#7201a8"
             ],
             [
              0.3333333333333333,
              "#9c179e"
             ],
             [
              0.4444444444444444,
              "#bd3786"
             ],
             [
              0.5555555555555556,
              "#d8576b"
             ],
             [
              0.6666666666666666,
              "#ed7953"
             ],
             [
              0.7777777777777778,
              "#fb9f3a"
             ],
             [
              0.8888888888888888,
              "#fdca26"
             ],
             [
              1,
              "#f0f921"
             ]
            ],
            "type": "surface"
           }
          ],
          "table": [
           {
            "cells": {
             "fill": {
              "color": "#EBF0F8"
             },
             "line": {
              "color": "white"
             }
            },
            "header": {
             "fill": {
              "color": "#C8D4E3"
             },
             "line": {
              "color": "white"
             }
            },
            "type": "table"
           }
          ]
         },
         "layout": {
          "annotationdefaults": {
           "arrowcolor": "#2a3f5f",
           "arrowhead": 0,
           "arrowwidth": 1
          },
          "autotypenumbers": "strict",
          "coloraxis": {
           "colorbar": {
            "outlinewidth": 0,
            "ticks": ""
           }
          },
          "colorscale": {
           "diverging": [
            [
             0,
             "#8e0152"
            ],
            [
             0.1,
             "#c51b7d"
            ],
            [
             0.2,
             "#de77ae"
            ],
            [
             0.3,
             "#f1b6da"
            ],
            [
             0.4,
             "#fde0ef"
            ],
            [
             0.5,
             "#f7f7f7"
            ],
            [
             0.6,
             "#e6f5d0"
            ],
            [
             0.7,
             "#b8e186"
            ],
            [
             0.8,
             "#7fbc41"
            ],
            [
             0.9,
             "#4d9221"
            ],
            [
             1,
             "#276419"
            ]
           ],
           "sequential": [
            [
             0,
             "#0d0887"
            ],
            [
             0.1111111111111111,
             "#46039f"
            ],
            [
             0.2222222222222222,
             "#7201a8"
            ],
            [
             0.3333333333333333,
             "#9c179e"
            ],
            [
             0.4444444444444444,
             "#bd3786"
            ],
            [
             0.5555555555555556,
             "#d8576b"
            ],
            [
             0.6666666666666666,
             "#ed7953"
            ],
            [
             0.7777777777777778,
             "#fb9f3a"
            ],
            [
             0.8888888888888888,
             "#fdca26"
            ],
            [
             1,
             "#f0f921"
            ]
           ],
           "sequentialminus": [
            [
             0,
             "#0d0887"
            ],
            [
             0.1111111111111111,
             "#46039f"
            ],
            [
             0.2222222222222222,
             "#7201a8"
            ],
            [
             0.3333333333333333,
             "#9c179e"
            ],
            [
             0.4444444444444444,
             "#bd3786"
            ],
            [
             0.5555555555555556,
             "#d8576b"
            ],
            [
             0.6666666666666666,
             "#ed7953"
            ],
            [
             0.7777777777777778,
             "#fb9f3a"
            ],
            [
             0.8888888888888888,
             "#fdca26"
            ],
            [
             1,
             "#f0f921"
            ]
           ]
          },
          "colorway": [
           "#636efa",
           "#EF553B",
           "#00cc96",
           "#ab63fa",
           "#FFA15A",
           "#19d3f3",
           "#FF6692",
           "#B6E880",
           "#FF97FF",
           "#FECB52"
          ],
          "font": {
           "color": "#2a3f5f"
          },
          "geo": {
           "bgcolor": "white",
           "lakecolor": "white",
           "landcolor": "#E5ECF6",
           "showlakes": true,
           "showland": true,
           "subunitcolor": "white"
          },
          "hoverlabel": {
           "align": "left"
          },
          "hovermode": "closest",
          "mapbox": {
           "style": "light"
          },
          "paper_bgcolor": "white",
          "plot_bgcolor": "#E5ECF6",
          "polar": {
           "angularaxis": {
            "gridcolor": "white",
            "linecolor": "white",
            "ticks": ""
           },
           "bgcolor": "#E5ECF6",
           "radialaxis": {
            "gridcolor": "white",
            "linecolor": "white",
            "ticks": ""
           }
          },
          "scene": {
           "xaxis": {
            "backgroundcolor": "#E5ECF6",
            "gridcolor": "white",
            "gridwidth": 2,
            "linecolor": "white",
            "showbackground": true,
            "ticks": "",
            "zerolinecolor": "white"
           },
           "yaxis": {
            "backgroundcolor": "#E5ECF6",
            "gridcolor": "white",
            "gridwidth": 2,
            "linecolor": "white",
            "showbackground": true,
            "ticks": "",
            "zerolinecolor": "white"
           },
           "zaxis": {
            "backgroundcolor": "#E5ECF6",
            "gridcolor": "white",
            "gridwidth": 2,
            "linecolor": "white",
            "showbackground": true,
            "ticks": "",
            "zerolinecolor": "white"
           }
          },
          "shapedefaults": {
           "line": {
            "color": "#2a3f5f"
           }
          },
          "ternary": {
           "aaxis": {
            "gridcolor": "white",
            "linecolor": "white",
            "ticks": ""
           },
           "baxis": {
            "gridcolor": "white",
            "linecolor": "white",
            "ticks": ""
           },
           "bgcolor": "#E5ECF6",
           "caxis": {
            "gridcolor": "white",
            "linecolor": "white",
            "ticks": ""
           }
          },
          "title": {
           "x": 0.05
          },
          "xaxis": {
           "automargin": true,
           "gridcolor": "white",
           "linecolor": "white",
           "ticks": "",
           "title": {
            "standoff": 15
           },
           "zerolinecolor": "white",
           "zerolinewidth": 2
          },
          "yaxis": {
           "automargin": true,
           "gridcolor": "white",
           "linecolor": "white",
           "ticks": "",
           "title": {
            "standoff": 15
           },
           "zerolinecolor": "white",
           "zerolinewidth": 2
          }
         }
        },
        "title": {
         "text": "Number of Female Employees by Sector, 2018"
        },
        "xaxis": {
         "anchor": "y",
         "domain": [
          0,
          1
         ],
         "title": {
          "text": "Sector"
         }
        },
        "yaxis": {
         "anchor": "x",
         "domain": [
          0,
          1
         ],
         "title": {
          "text": "value"
         }
        }
       }
      }
     },
     "metadata": {},
     "output_type": "display_data"
    }
   ],
   "source": [
    "\n",
    "fig1 = px.bar(absEmpF, title = \"Number of Female Employees by Sector, 2018\")\n",
    "fig1.show()"
   ]
  },
  {
   "cell_type": "code",
   "execution_count": 28,
   "metadata": {},
   "outputs": [],
   "source": [
    "absEq = absEq[absEq.Gender == 'Equally male/female']"
   ]
  },
  {
   "cell_type": "code",
   "execution_count": 29,
   "metadata": {},
   "outputs": [
    {
     "data": {
      "text/html": [
       "<div>\n",
       "<style scoped>\n",
       "    .dataframe tbody tr th:only-of-type {\n",
       "        vertical-align: middle;\n",
       "    }\n",
       "\n",
       "    .dataframe tbody tr th {\n",
       "        vertical-align: top;\n",
       "    }\n",
       "\n",
       "    .dataframe thead th {\n",
       "        text-align: right;\n",
       "    }\n",
       "</style>\n",
       "<table border=\"1\" class=\"dataframe\">\n",
       "  <thead>\n",
       "    <tr style=\"text-align: right;\">\n",
       "      <th></th>\n",
       "      <th>Sector</th>\n",
       "      <th>Gender</th>\n",
       "      <th>NumberOfEmployerFirms</th>\n",
       "    </tr>\n",
       "  </thead>\n",
       "  <tbody>\n",
       "    <tr>\n",
       "      <th>3</th>\n",
       "      <td>Total for all sectors</td>\n",
       "      <td>Equally male/female</td>\n",
       "      <td>860754</td>\n",
       "    </tr>\n",
       "    <tr>\n",
       "      <th>7</th>\n",
       "      <td>Total for all sectors</td>\n",
       "      <td>Equally male/female</td>\n",
       "      <td>860754</td>\n",
       "    </tr>\n",
       "    <tr>\n",
       "      <th>11</th>\n",
       "      <td>Agriculture, forestry, fishing and hunting (660)</td>\n",
       "      <td>Equally male/female</td>\n",
       "      <td>5605</td>\n",
       "    </tr>\n",
       "    <tr>\n",
       "      <th>15</th>\n",
       "      <td>Mining, quarrying, and oil and gas extraction</td>\n",
       "      <td>Equally male/female</td>\n",
       "      <td>3280</td>\n",
       "    </tr>\n",
       "    <tr>\n",
       "      <th>23</th>\n",
       "      <td>Construction</td>\n",
       "      <td>Equally male/female</td>\n",
       "      <td>100260</td>\n",
       "    </tr>\n",
       "  </tbody>\n",
       "</table>\n",
       "</div>"
      ],
      "text/plain": [
       "                                              Sector               Gender  \\\n",
       "3                              Total for all sectors  Equally male/female   \n",
       "7                              Total for all sectors  Equally male/female   \n",
       "11  Agriculture, forestry, fishing and hunting (660)  Equally male/female   \n",
       "15     Mining, quarrying, and oil and gas extraction  Equally male/female   \n",
       "23                                      Construction  Equally male/female   \n",
       "\n",
       "    NumberOfEmployerFirms  \n",
       "3                  860754  \n",
       "7                  860754  \n",
       "11                   5605  \n",
       "15                   3280  \n",
       "23                 100260  "
      ]
     },
     "execution_count": 29,
     "metadata": {},
     "output_type": "execute_result"
    }
   ],
   "source": [
    "absEq['NumberOfEmployerFirms'] = absEq['NumberOfEmployerFirms'].str.replace(',', '')\n",
    "\n",
    "absEq.drop(absEq[absEq['NumberOfEmployerFirms']== \"S\"].index, inplace = True)\n",
    "absEq['NumberOfEmployerFirms'] = absEq['NumberOfEmployerFirms'].astype(str).astype(float).astype('int64')\n",
    "absEq.head()"
   ]
  },
  {
   "cell_type": "code",
   "execution_count": 30,
   "metadata": {},
   "outputs": [],
   "source": [
    "absEq = absEq[['Sector', 'NumberOfEmployerFirms']]\n",
    "\n",
    "#absEq = absEq.set_index('Sector')\n",
    "absEq = absEq[2:]"
   ]
  },
  {
   "cell_type": "code",
   "execution_count": 31,
   "metadata": {},
   "outputs": [
    {
     "data": {
      "application/vnd.plotly.v1+json": {
       "config": {
        "plotlyServerURL": "https://plot.ly"
       },
       "data": [
        {
         "domain": {
          "x": [
           0,
           1
          ],
          "y": [
           0,
           1
          ]
         },
         "hovertemplate": "Sector=%{label}<br>NumberOfEmployerFirms=%{value}<extra></extra>",
         "labels": [
          "Agriculture, forestry, fishing and hunting (660)",
          "Mining, quarrying, and oil and gas extraction",
          "Construction",
          "Manufacturing",
          "Wholesale trade",
          "Retail trade",
          "Transportation and warehousing (661)",
          "Information",
          "Finance and insurance (662)",
          "Real estate and rental and leasing",
          "Professional, scientific, and technical services",
          "Management of companies and enterprises",
          "Administrative and support and waste management and remediation services",
          "Educational services",
          "Health care and social assistance",
          "Arts, entertainment, and recreation",
          "Accommodation and food services",
          "Other services (except public administration) (663)"
         ],
         "legendgroup": "",
         "name": "",
         "showlegend": true,
         "type": "pie",
         "values": [
          5605,
          3280,
          100260,
          37317,
          41537,
          126131,
          33139,
          9783,
          23552,
          59038,
          84993,
          2052,
          50637,
          13031,
          62339,
          18975,
          108888,
          75028
         ]
        }
       ],
       "layout": {
        "legend": {
         "tracegroupgap": 0
        },
        "template": {
         "data": {
          "bar": [
           {
            "error_x": {
             "color": "#2a3f5f"
            },
            "error_y": {
             "color": "#2a3f5f"
            },
            "marker": {
             "line": {
              "color": "#E5ECF6",
              "width": 0.5
             },
             "pattern": {
              "fillmode": "overlay",
              "size": 10,
              "solidity": 0.2
             }
            },
            "type": "bar"
           }
          ],
          "barpolar": [
           {
            "marker": {
             "line": {
              "color": "#E5ECF6",
              "width": 0.5
             },
             "pattern": {
              "fillmode": "overlay",
              "size": 10,
              "solidity": 0.2
             }
            },
            "type": "barpolar"
           }
          ],
          "carpet": [
           {
            "aaxis": {
             "endlinecolor": "#2a3f5f",
             "gridcolor": "white",
             "linecolor": "white",
             "minorgridcolor": "white",
             "startlinecolor": "#2a3f5f"
            },
            "baxis": {
             "endlinecolor": "#2a3f5f",
             "gridcolor": "white",
             "linecolor": "white",
             "minorgridcolor": "white",
             "startlinecolor": "#2a3f5f"
            },
            "type": "carpet"
           }
          ],
          "choropleth": [
           {
            "colorbar": {
             "outlinewidth": 0,
             "ticks": ""
            },
            "type": "choropleth"
           }
          ],
          "contour": [
           {
            "colorbar": {
             "outlinewidth": 0,
             "ticks": ""
            },
            "colorscale": [
             [
              0,
              "#0d0887"
             ],
             [
              0.1111111111111111,
              "#46039f"
             ],
             [
              0.2222222222222222,
              "#7201a8"
             ],
             [
              0.3333333333333333,
              "#9c179e"
             ],
             [
              0.4444444444444444,
              "#bd3786"
             ],
             [
              0.5555555555555556,
              "#d8576b"
             ],
             [
              0.6666666666666666,
              "#ed7953"
             ],
             [
              0.7777777777777778,
              "#fb9f3a"
             ],
             [
              0.8888888888888888,
              "#fdca26"
             ],
             [
              1,
              "#f0f921"
             ]
            ],
            "type": "contour"
           }
          ],
          "contourcarpet": [
           {
            "colorbar": {
             "outlinewidth": 0,
             "ticks": ""
            },
            "type": "contourcarpet"
           }
          ],
          "heatmap": [
           {
            "colorbar": {
             "outlinewidth": 0,
             "ticks": ""
            },
            "colorscale": [
             [
              0,
              "#0d0887"
             ],
             [
              0.1111111111111111,
              "#46039f"
             ],
             [
              0.2222222222222222,
              "#7201a8"
             ],
             [
              0.3333333333333333,
              "#9c179e"
             ],
             [
              0.4444444444444444,
              "#bd3786"
             ],
             [
              0.5555555555555556,
              "#d8576b"
             ],
             [
              0.6666666666666666,
              "#ed7953"
             ],
             [
              0.7777777777777778,
              "#fb9f3a"
             ],
             [
              0.8888888888888888,
              "#fdca26"
             ],
             [
              1,
              "#f0f921"
             ]
            ],
            "type": "heatmap"
           }
          ],
          "heatmapgl": [
           {
            "colorbar": {
             "outlinewidth": 0,
             "ticks": ""
            },
            "colorscale": [
             [
              0,
              "#0d0887"
             ],
             [
              0.1111111111111111,
              "#46039f"
             ],
             [
              0.2222222222222222,
              "#7201a8"
             ],
             [
              0.3333333333333333,
              "#9c179e"
             ],
             [
              0.4444444444444444,
              "#bd3786"
             ],
             [
              0.5555555555555556,
              "#d8576b"
             ],
             [
              0.6666666666666666,
              "#ed7953"
             ],
             [
              0.7777777777777778,
              "#fb9f3a"
             ],
             [
              0.8888888888888888,
              "#fdca26"
             ],
             [
              1,
              "#f0f921"
             ]
            ],
            "type": "heatmapgl"
           }
          ],
          "histogram": [
           {
            "marker": {
             "pattern": {
              "fillmode": "overlay",
              "size": 10,
              "solidity": 0.2
             }
            },
            "type": "histogram"
           }
          ],
          "histogram2d": [
           {
            "colorbar": {
             "outlinewidth": 0,
             "ticks": ""
            },
            "colorscale": [
             [
              0,
              "#0d0887"
             ],
             [
              0.1111111111111111,
              "#46039f"
             ],
             [
              0.2222222222222222,
              "#7201a8"
             ],
             [
              0.3333333333333333,
              "#9c179e"
             ],
             [
              0.4444444444444444,
              "#bd3786"
             ],
             [
              0.5555555555555556,
              "#d8576b"
             ],
             [
              0.6666666666666666,
              "#ed7953"
             ],
             [
              0.7777777777777778,
              "#fb9f3a"
             ],
             [
              0.8888888888888888,
              "#fdca26"
             ],
             [
              1,
              "#f0f921"
             ]
            ],
            "type": "histogram2d"
           }
          ],
          "histogram2dcontour": [
           {
            "colorbar": {
             "outlinewidth": 0,
             "ticks": ""
            },
            "colorscale": [
             [
              0,
              "#0d0887"
             ],
             [
              0.1111111111111111,
              "#46039f"
             ],
             [
              0.2222222222222222,
              "#7201a8"
             ],
             [
              0.3333333333333333,
              "#9c179e"
             ],
             [
              0.4444444444444444,
              "#bd3786"
             ],
             [
              0.5555555555555556,
              "#d8576b"
             ],
             [
              0.6666666666666666,
              "#ed7953"
             ],
             [
              0.7777777777777778,
              "#fb9f3a"
             ],
             [
              0.8888888888888888,
              "#fdca26"
             ],
             [
              1,
              "#f0f921"
             ]
            ],
            "type": "histogram2dcontour"
           }
          ],
          "mesh3d": [
           {
            "colorbar": {
             "outlinewidth": 0,
             "ticks": ""
            },
            "type": "mesh3d"
           }
          ],
          "parcoords": [
           {
            "line": {
             "colorbar": {
              "outlinewidth": 0,
              "ticks": ""
             }
            },
            "type": "parcoords"
           }
          ],
          "pie": [
           {
            "automargin": true,
            "type": "pie"
           }
          ],
          "scatter": [
           {
            "marker": {
             "colorbar": {
              "outlinewidth": 0,
              "ticks": ""
             }
            },
            "type": "scatter"
           }
          ],
          "scatter3d": [
           {
            "line": {
             "colorbar": {
              "outlinewidth": 0,
              "ticks": ""
             }
            },
            "marker": {
             "colorbar": {
              "outlinewidth": 0,
              "ticks": ""
             }
            },
            "type": "scatter3d"
           }
          ],
          "scattercarpet": [
           {
            "marker": {
             "colorbar": {
              "outlinewidth": 0,
              "ticks": ""
             }
            },
            "type": "scattercarpet"
           }
          ],
          "scattergeo": [
           {
            "marker": {
             "colorbar": {
              "outlinewidth": 0,
              "ticks": ""
             }
            },
            "type": "scattergeo"
           }
          ],
          "scattergl": [
           {
            "marker": {
             "colorbar": {
              "outlinewidth": 0,
              "ticks": ""
             }
            },
            "type": "scattergl"
           }
          ],
          "scattermapbox": [
           {
            "marker": {
             "colorbar": {
              "outlinewidth": 0,
              "ticks": ""
             }
            },
            "type": "scattermapbox"
           }
          ],
          "scatterpolar": [
           {
            "marker": {
             "colorbar": {
              "outlinewidth": 0,
              "ticks": ""
             }
            },
            "type": "scatterpolar"
           }
          ],
          "scatterpolargl": [
           {
            "marker": {
             "colorbar": {
              "outlinewidth": 0,
              "ticks": ""
             }
            },
            "type": "scatterpolargl"
           }
          ],
          "scatterternary": [
           {
            "marker": {
             "colorbar": {
              "outlinewidth": 0,
              "ticks": ""
             }
            },
            "type": "scatterternary"
           }
          ],
          "surface": [
           {
            "colorbar": {
             "outlinewidth": 0,
             "ticks": ""
            },
            "colorscale": [
             [
              0,
              "#0d0887"
             ],
             [
              0.1111111111111111,
              "#46039f"
             ],
             [
              0.2222222222222222,
              "#7201a8"
             ],
             [
              0.3333333333333333,
              "#9c179e"
             ],
             [
              0.4444444444444444,
              "#bd3786"
             ],
             [
              0.5555555555555556,
              "#d8576b"
             ],
             [
              0.6666666666666666,
              "#ed7953"
             ],
             [
              0.7777777777777778,
              "#fb9f3a"
             ],
             [
              0.8888888888888888,
              "#fdca26"
             ],
             [
              1,
              "#f0f921"
             ]
            ],
            "type": "surface"
           }
          ],
          "table": [
           {
            "cells": {
             "fill": {
              "color": "#EBF0F8"
             },
             "line": {
              "color": "white"
             }
            },
            "header": {
             "fill": {
              "color": "#C8D4E3"
             },
             "line": {
              "color": "white"
             }
            },
            "type": "table"
           }
          ]
         },
         "layout": {
          "annotationdefaults": {
           "arrowcolor": "#2a3f5f",
           "arrowhead": 0,
           "arrowwidth": 1
          },
          "autotypenumbers": "strict",
          "coloraxis": {
           "colorbar": {
            "outlinewidth": 0,
            "ticks": ""
           }
          },
          "colorscale": {
           "diverging": [
            [
             0,
             "#8e0152"
            ],
            [
             0.1,
             "#c51b7d"
            ],
            [
             0.2,
             "#de77ae"
            ],
            [
             0.3,
             "#f1b6da"
            ],
            [
             0.4,
             "#fde0ef"
            ],
            [
             0.5,
             "#f7f7f7"
            ],
            [
             0.6,
             "#e6f5d0"
            ],
            [
             0.7,
             "#b8e186"
            ],
            [
             0.8,
             "#7fbc41"
            ],
            [
             0.9,
             "#4d9221"
            ],
            [
             1,
             "#276419"
            ]
           ],
           "sequential": [
            [
             0,
             "#0d0887"
            ],
            [
             0.1111111111111111,
             "#46039f"
            ],
            [
             0.2222222222222222,
             "#7201a8"
            ],
            [
             0.3333333333333333,
             "#9c179e"
            ],
            [
             0.4444444444444444,
             "#bd3786"
            ],
            [
             0.5555555555555556,
             "#d8576b"
            ],
            [
             0.6666666666666666,
             "#ed7953"
            ],
            [
             0.7777777777777778,
             "#fb9f3a"
            ],
            [
             0.8888888888888888,
             "#fdca26"
            ],
            [
             1,
             "#f0f921"
            ]
           ],
           "sequentialminus": [
            [
             0,
             "#0d0887"
            ],
            [
             0.1111111111111111,
             "#46039f"
            ],
            [
             0.2222222222222222,
             "#7201a8"
            ],
            [
             0.3333333333333333,
             "#9c179e"
            ],
            [
             0.4444444444444444,
             "#bd3786"
            ],
            [
             0.5555555555555556,
             "#d8576b"
            ],
            [
             0.6666666666666666,
             "#ed7953"
            ],
            [
             0.7777777777777778,
             "#fb9f3a"
            ],
            [
             0.8888888888888888,
             "#fdca26"
            ],
            [
             1,
             "#f0f921"
            ]
           ]
          },
          "colorway": [
           "#636efa",
           "#EF553B",
           "#00cc96",
           "#ab63fa",
           "#FFA15A",
           "#19d3f3",
           "#FF6692",
           "#B6E880",
           "#FF97FF",
           "#FECB52"
          ],
          "font": {
           "color": "#2a3f5f"
          },
          "geo": {
           "bgcolor": "white",
           "lakecolor": "white",
           "landcolor": "#E5ECF6",
           "showlakes": true,
           "showland": true,
           "subunitcolor": "white"
          },
          "hoverlabel": {
           "align": "left"
          },
          "hovermode": "closest",
          "mapbox": {
           "style": "light"
          },
          "paper_bgcolor": "white",
          "plot_bgcolor": "#E5ECF6",
          "polar": {
           "angularaxis": {
            "gridcolor": "white",
            "linecolor": "white",
            "ticks": ""
           },
           "bgcolor": "#E5ECF6",
           "radialaxis": {
            "gridcolor": "white",
            "linecolor": "white",
            "ticks": ""
           }
          },
          "scene": {
           "xaxis": {
            "backgroundcolor": "#E5ECF6",
            "gridcolor": "white",
            "gridwidth": 2,
            "linecolor": "white",
            "showbackground": true,
            "ticks": "",
            "zerolinecolor": "white"
           },
           "yaxis": {
            "backgroundcolor": "#E5ECF6",
            "gridcolor": "white",
            "gridwidth": 2,
            "linecolor": "white",
            "showbackground": true,
            "ticks": "",
            "zerolinecolor": "white"
           },
           "zaxis": {
            "backgroundcolor": "#E5ECF6",
            "gridcolor": "white",
            "gridwidth": 2,
            "linecolor": "white",
            "showbackground": true,
            "ticks": "",
            "zerolinecolor": "white"
           }
          },
          "shapedefaults": {
           "line": {
            "color": "#2a3f5f"
           }
          },
          "ternary": {
           "aaxis": {
            "gridcolor": "white",
            "linecolor": "white",
            "ticks": ""
           },
           "baxis": {
            "gridcolor": "white",
            "linecolor": "white",
            "ticks": ""
           },
           "bgcolor": "#E5ECF6",
           "caxis": {
            "gridcolor": "white",
            "linecolor": "white",
            "ticks": ""
           }
          },
          "title": {
           "x": 0.05
          },
          "xaxis": {
           "automargin": true,
           "gridcolor": "white",
           "linecolor": "white",
           "ticks": "",
           "title": {
            "standoff": 15
           },
           "zerolinecolor": "white",
           "zerolinewidth": 2
          },
          "yaxis": {
           "automargin": true,
           "gridcolor": "white",
           "linecolor": "white",
           "ticks": "",
           "title": {
            "standoff": 15
           },
           "zerolinecolor": "white",
           "zerolinewidth": 2
          }
         }
        },
        "title": {
         "text": "Percentage of Total Gender-Equal Firms By Sector"
        }
       }
      }
     },
     "metadata": {},
     "output_type": "display_data"
    }
   ],
   "source": [
    "\n",
    "fig2 = px.pie(absEq, values=\"NumberOfEmployerFirms\", names = \"Sector\", title =\"Percentage of Total Gender-Equal Firms By Sector\")\n",
    "\n",
    "fig2.show()"
   ]
  }
 ],
 "metadata": {
  "kernelspec": {
   "display_name": "Python 3.9.12 ('base')",
   "language": "python",
   "name": "python3"
  },
  "language_info": {
   "codemirror_mode": {
    "name": "ipython",
    "version": 3
   },
   "file_extension": ".py",
   "mimetype": "text/x-python",
   "name": "python",
   "nbconvert_exporter": "python",
   "pygments_lexer": "ipython3",
   "version": "3.9.12"
  },
  "orig_nbformat": 4,
  "vscode": {
   "interpreter": {
    "hash": "b873ff1bdb436288997389ad0554016b476263221ef541de4710294d3256898e"
   }
  }
 },
 "nbformat": 4,
 "nbformat_minor": 2
}
